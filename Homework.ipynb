{
  "nbformat": 4,
  "nbformat_minor": 0,
  "metadata": {
    "colab": {
      "name": "Homework.ipynb",
      "provenance": []
    },
    "kernelspec": {
      "name": "python3",
      "display_name": "Python 3"
    }
  },
  "cells": [
    {
      "cell_type": "markdown",
      "metadata": {
        "id": "X7i9A8dJH19n",
        "colab_type": "text"
      },
      "source": [
        "Palindrome Checker\n"
      ]
    },
    {
      "cell_type": "code",
      "metadata": {
        "id": "H5mMzzybH6I9",
        "colab_type": "code",
        "colab": {
          "base_uri": "https://localhost:8080/",
          "height": 34
        },
        "outputId": "37f52d5f-92c4-40c7-d1fd-9989641d7a62"
      },
      "source": [
        "input = 454\n",
        "maker = str(input)\n",
        "smaller = maker.lower()\n",
        "output = smaller[::-1]\n",
        "\n",
        "if output == smaller:\n",
        "  print(\"Yes\")\n",
        "else: \n",
        "  print(\"No\")"
      ],
      "execution_count": 36,
      "outputs": [
        {
          "output_type": "stream",
          "text": [
            "Yes\n"
          ],
          "name": "stdout"
        }
      ]
    },
    {
      "cell_type": "markdown",
      "metadata": {
        "id": "ruP-vSbAMJDH",
        "colab_type": "text"
      },
      "source": [
        "Prime Number Checker"
      ]
    },
    {
      "cell_type": "code",
      "metadata": {
        "id": "zxnX1iJgIYSv",
        "colab_type": "code",
        "colab": {
          "base_uri": "https://localhost:8080/",
          "height": 34
        },
        "outputId": "28a42a88-8b08-4c7a-d8c3-cf7db95ef870"
      },
      "source": [
        "number = 100\n",
        "\n",
        "if number > 1:\n",
        "   for i in range(2,number):\n",
        "       if (number % i) == 0:\n",
        "           print(number,\"is not a prime number\")\n",
        "           break\n",
        "   else:\n",
        "       print(number,\"is a prime number\")\n",
        "\n",
        "else:\n",
        "   print(number,\"is not a prime number\")"
      ],
      "execution_count": 67,
      "outputs": [
        {
          "output_type": "stream",
          "text": [
            "100 is not a prime number\n"
          ],
          "name": "stdout"
        }
      ]
    },
    {
      "cell_type": "code",
      "metadata": {
        "id": "kFmUs7mHRXNb",
        "colab_type": "code",
        "colab": {}
      },
      "source": [
        ""
      ],
      "execution_count": 0,
      "outputs": []
    }
  ]
}