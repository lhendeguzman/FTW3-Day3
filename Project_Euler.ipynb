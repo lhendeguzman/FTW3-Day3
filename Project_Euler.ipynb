{
  "nbformat": 4,
  "nbformat_minor": 0,
  "metadata": {
    "colab": {
      "name": "Project Euler.ipynb",
      "provenance": []
    },
    "kernelspec": {
      "name": "python3",
      "display_name": "Python 3"
    }
  },
  "cells": [
    {
      "cell_type": "code",
      "metadata": {
        "id": "xfK9MVyToCNE",
        "colab_type": "code",
        "outputId": "ca256883-790c-4f31-aaf1-37f3920cf613",
        "colab": {
          "base_uri": "https://localhost:8080/",
          "height": 34
        }
      },
      "source": [
        "sum(x for x in range(1000) if (x % 3 == 0 or x % 5 ==0))"
      ],
      "execution_count": 0,
      "outputs": [
        {
          "output_type": "execute_result",
          "data": {
            "text/plain": [
              "233168"
            ]
          },
          "metadata": {
            "tags": []
          },
          "execution_count": 3
        }
      ]
    },
    {
      "cell_type": "code",
      "metadata": {
        "id": "76ZFElS_7NpC",
        "colab_type": "code",
        "outputId": "5152a195-fd8f-4951-f6d3-7d9e867c8015",
        "colab": {
          "base_uri": "https://localhost:8080/",
          "height": 34
        }
      },
      "source": [
        "x = 1\n",
        "y = 1\n",
        "fibo = [x, y]\n",
        "\n",
        "while y < 100:\n",
        "  x, y = y, x + y\n",
        "  fibo.append(y)\n",
        "\n",
        "sum(x for x in fibo if (x % 2 == 0))"
      ],
      "execution_count": 33,
      "outputs": [
        {
          "output_type": "execute_result",
          "data": {
            "text/plain": [
              "188"
            ]
          },
          "metadata": {
            "tags": []
          },
          "execution_count": 33
        }
      ]
    },
    {
      "cell_type": "code",
      "metadata": {
        "id": "vvxpevcz7l7c",
        "colab_type": "code",
        "colab": {
          "base_uri": "https://localhost:8080/",
          "height": 34
        },
        "outputId": "a46a701c-251e-43cd-d09e-bea901efe29e"
      },
      "source": [
        "x = 1\n",
        "y = 1\n",
        "fibo = [x, y]\n",
        "\n",
        "while y < 4000000:\n",
        "  x, y = y, x + y\n",
        "  fibo.append(y)\n",
        "\n",
        "sum(x for x in fibo if (x % 2 == 0))"
      ],
      "execution_count": 32,
      "outputs": [
        {
          "output_type": "execute_result",
          "data": {
            "text/plain": [
              "4613732"
            ]
          },
          "metadata": {
            "tags": []
          },
          "execution_count": 32
        }
      ]
    },
    {
      "cell_type": "code",
      "metadata": {
        "id": "5vSjTi86FLRp",
        "colab_type": "code",
        "colab": {}
      },
      "source": [
        ""
      ],
      "execution_count": 0,
      "outputs": []
    }
  ]
}