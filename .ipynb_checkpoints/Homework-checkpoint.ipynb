{
 "cells": [
  {
   "cell_type": "markdown",
   "metadata": {
    "colab_type": "text",
    "id": "X7i9A8dJH19n"
   },
   "source": [
    "Palindrome Checker\n"
   ]
  },
  {
   "cell_type": "code",
   "execution_count": 36,
   "metadata": {
    "colab": {
     "base_uri": "https://localhost:8080/",
     "height": 34
    },
    "colab_type": "code",
    "id": "H5mMzzybH6I9",
    "outputId": "37f52d5f-92c4-40c7-d1fd-9989641d7a62"
   },
   "outputs": [
    {
     "name": "stdout",
     "output_type": "stream",
     "text": [
      "Yes\n"
     ]
    }
   ],
   "source": [
    "input = 454\n",
    "maker = str(input)\n",
    "smaller = maker.lower()\n",
    "output = smaller[::-1]\n",
    "\n",
    "if output == smaller:\n",
    "  print(\"Yes\")\n",
    "else: \n",
    "  print(\"No\")"
   ]
  },
  {
   "cell_type": "markdown",
   "metadata": {
    "colab_type": "text",
    "id": "ruP-vSbAMJDH"
   },
   "source": [
    "Prime Number Checker"
   ]
  },
  {
   "cell_type": "code",
   "execution_count": 67,
   "metadata": {
    "colab": {
     "base_uri": "https://localhost:8080/",
     "height": 34
    },
    "colab_type": "code",
    "id": "zxnX1iJgIYSv",
    "outputId": "28a42a88-8b08-4c7a-d8c3-cf7db95ef870"
   },
   "outputs": [
    {
     "name": "stdout",
     "output_type": "stream",
     "text": [
      "100 is not a prime number\n"
     ]
    }
   ],
   "source": [
    "number = 100\n",
    "\n",
    "if number > 1:\n",
    "   for i in range(2,number):\n",
    "       if (number % i) == 0:\n",
    "           print(number,\"is not a prime number\")\n",
    "           break\n",
    "   else:\n",
    "       print(number,\"is a prime number\")\n",
    "\n",
    "else:\n",
    "   print(number,\"is not a prime number\")"
   ]
  },
  {
   "cell_type": "code",
   "execution_count": 0,
   "metadata": {
    "colab": {},
    "colab_type": "code",
    "id": "kFmUs7mHRXNb"
   },
   "outputs": [],
   "source": []
  }
 ],
 "metadata": {
  "colab": {
   "name": "Homework.ipynb",
   "provenance": []
  },
  "kernelspec": {
   "display_name": "Python 3",
   "language": "python",
   "name": "python3"
  },
  "language_info": {
   "codemirror_mode": {
    "name": "ipython",
    "version": 3
   },
   "file_extension": ".py",
   "mimetype": "text/x-python",
   "name": "python",
   "nbconvert_exporter": "python",
   "pygments_lexer": "ipython3",
   "version": "3.7.4"
  }
 },
 "nbformat": 4,
 "nbformat_minor": 1
}
