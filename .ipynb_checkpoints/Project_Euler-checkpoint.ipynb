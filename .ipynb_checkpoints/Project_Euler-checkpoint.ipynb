{
 "cells": [
  {
   "cell_type": "markdown",
   "metadata": {},
   "source": [
    "### <a href=https://projecteuler.net/problem=1>Problem 1</a>\n",
    "\n",
    "If we list all the natural numbers below 10 that are multiples of 3 or 5, we get 3, 5, 6 and 9. \n",
    "The sum of these multiples is 23.\n",
    "\n",
    "Find the sum of all the multiples of 3 or 5 below 1000."
   ]
  },
  {
   "cell_type": "code",
   "execution_count": 2,
   "metadata": {
    "colab": {
     "base_uri": "https://localhost:8080/",
     "height": 34
    },
    "colab_type": "code",
    "id": "xfK9MVyToCNE",
    "outputId": "ca256883-790c-4f31-aaf1-37f3920cf613"
   },
   "outputs": [
    {
     "data": {
      "text/plain": [
       "233168"
      ]
     },
     "execution_count": 2,
     "metadata": {},
     "output_type": "execute_result"
    }
   ],
   "source": [
    "sum(x for x in range(1000) if (x % 3 == 0 or x % 5 ==0)) "
   ]
  },
  {
   "cell_type": "code",
   "execution_count": null,
   "metadata": {
    "colab": {
     "base_uri": "https://localhost:8080/",
     "height": 34
    },
    "colab_type": "code",
    "id": "76ZFElS_7NpC",
    "outputId": "5152a195-fd8f-4951-f6d3-7d9e867c8015"
   },
   "outputs": [],
   "source": [
    "x = 1\n",
    "y = 1\n",
    "fibo = [x, y]\n",
    "\n",
    "while y < 100:\n",
    "  x, y = y, x + y\n",
    "  fibo.append(y)\n",
    "\n",
    "sum(x for x in fibo if (x % 2 == 0))"
   ]
  },
  {
   "cell_type": "code",
   "execution_count": null,
   "metadata": {
    "colab": {
     "base_uri": "https://localhost:8080/",
     "height": 34
    },
    "colab_type": "code",
    "id": "vvxpevcz7l7c",
    "outputId": "a46a701c-251e-43cd-d09e-bea901efe29e"
   },
   "outputs": [],
   "source": [
    "x = 1\n",
    "y = 1\n",
    "fibo = [x, y]\n",
    "\n",
    "while y < 4000000:\n",
    "  x, y = y, x + y\n",
    "  fibo.append(y)\n",
    "\n",
    "sum(x for x in fibo if (x % 2 == 0))"
   ]
  },
  {
   "cell_type": "code",
   "execution_count": null,
   "metadata": {
    "colab": {},
    "colab_type": "code",
    "id": "5vSjTi86FLRp"
   },
   "outputs": [],
   "source": []
  }
 ],
 "metadata": {
  "colab": {
   "name": "Project Euler.ipynb",
   "provenance": []
  },
  "kernelspec": {
   "display_name": "Python 3",
   "language": "python",
   "name": "python3"
  },
  "language_info": {
   "codemirror_mode": {
    "name": "ipython",
    "version": 3
   },
   "file_extension": ".py",
   "mimetype": "text/x-python",
   "name": "python",
   "nbconvert_exporter": "python",
   "pygments_lexer": "ipython3",
   "version": "3.7.4"
  }
 },
 "nbformat": 4,
 "nbformat_minor": 1
}
